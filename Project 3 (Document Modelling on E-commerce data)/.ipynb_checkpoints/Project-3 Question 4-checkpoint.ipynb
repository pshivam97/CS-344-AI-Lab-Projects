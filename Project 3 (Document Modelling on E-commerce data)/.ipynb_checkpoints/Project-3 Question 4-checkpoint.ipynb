{
 "cells": [
  {
   "cell_type": "markdown",
   "metadata": {},
   "source": [
    "# CS-386 Artificial Intelligence"
   ]
  },
  {
   "cell_type": "markdown",
   "metadata": {},
   "source": [
    "## Project-3 Question-4 : Compare the performance of Information Retrieval (IR) using both TF-IDF and LSA methods"
   ]
  },
  {
   "cell_type": "markdown",
   "metadata": {},
   "source": [
    "## Analysis and Comparision of the two methods\n",
    "\n",
    "### Time\n",
    "\n",
    "- TFIDF Running Time : 0.0327754020690918 secs\n",
    "- LSA on TF-matrix running time : 0.025423288345336914 secs\n",
    "\n",
    "We discern that LSA method runs faster than the TFIDF method.\n",
    "\n",
    "### Space\n",
    "\n",
    "Clearly, LSA will take lesser space than TFIDF method. The reason being, in TFIDF method we need to deal with 'D x V' matrix ( D = no. of documents, V = no. of words). Elseways, in LSA method, we need to store only 'D x K' matrix, ( K = reduced dimention), and the Eigen matrix 'V x K'.\n",
    "\n",
    "### Result\n",
    "\n",
    "- Query Words = \"lovely\",\"top\"\n",
    "\n",
    "#### TFIDF Output on query\n",
    "\n",
    "1. 0.6084722201847717 i adore this top lovely color fit is very flattering can dress up for work with a skirt or down with jean\n",
    "2. 0.6173126589257063 this top is lovely to look at and to wear one to reach for frequently\n",
    "3. 0.6626893446476587 this top is really cute the plum is a lovely color and the top fit true to size love the back detailing and it is really good tshirt quality\n",
    "4. 0.6683913521363961 very comfortable great quality with beautiful crocheted front top and lovely blend of color\n",
    "5. 0.7152264415109727 the shirt fit loosely but not baggy beautiful detail on the back and shoulder very soft and lovely material\n",
    "\n",
    "#### LSA on TF-matrix output on query\n",
    "\n",
    "1. 1.1972186648723238e-06 i purchased this top in the blue stripe and red after washing the red top it lost color in little spot and also ha little hole along the seam the blue washed fine overall it is a very cute top and great for summer\n",
    "2. 1.4295101787631381e-05 i really like this top excellent over a casual dress perfect for spring summer and fall\n",
    "3. 2.156105671458075e-05 the floral pattern on this tank tranforms it to a beautiful piece i usually tend to avoid top with full pattern because it tends to look busy but not with this top im usually wear sm with retailer brand depending with the design this tank ha loose bottom section so the s is tt for me\n",
    "4. 3.406716592668779e-05 this is a really nice top especially for the price i am dd lb and normally wear a medium in dolan top in this top i purchased size small since the gathered front provides ample room for my bust some reviewer have found this top to be on the boxy side i can see that if you dont size down a i did i found the medium to have too much fabric and look very baggy whereas the small wa perfect i do wish this top wa a tad bit longer and le sheer though white top should be\n",
    "5. 7.836218830681307e-05 beautiful top but delicate i wore it to school and the strap on my backpack caused some pilling other than that it is beautiful and vibrant just make sure you arent doingwearing anything that will rub it continuously since the fabric is delicate\n",
    "\n",
    "### Conclusion\n",
    "\n",
    "- We scrutinize that in terms of Space and time complexity, LSA using SVD is better than TFIDF method.\n",
    "- If we try to compare the ranking given by both methods to the corpus on some query words, it is subjective that which gives better result. One might like the result of TFIDF over LSA , someone else might like the other way around.\n",
    "- Upon close inspection, we discern that LSA entails context understandings given the key words, i.e. , it not only just gives the documents with given keywords, it also shows documents which mean the same in context involving some different words.\n",
    "- In case of TFIDF, we discern that it shows those documents first, we has the exact keywords given by the user.\n",
    "- Ultimately, the choice of using TFIDF or LSA might vary from person to person. But undoubtedly, LSA using SVD is better than TFIDF method from computational aspects such as space-time complexity."
   ]
  }
 ],
 "metadata": {
  "kernelspec": {
   "display_name": "Python 3",
   "language": "python",
   "name": "python3"
  },
  "language_info": {
   "codemirror_mode": {
    "name": "ipython",
    "version": 3
   },
   "file_extension": ".py",
   "mimetype": "text/x-python",
   "name": "python",
   "nbconvert_exporter": "python",
   "pygments_lexer": "ipython3",
   "version": "3.7.0"
  }
 },
 "nbformat": 4,
 "nbformat_minor": 2
}
